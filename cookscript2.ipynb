{
  "nbformat": 4,
  "nbformat_minor": 0,
  "metadata": {
    "colab": {
      "private_outputs": true,
      "provenance": [],
      "authorship_tag": "ABX9TyMzECJPxmL3CYI2VAfMww8c",
      "include_colab_link": true
    },
    "kernelspec": {
      "name": "python3",
      "display_name": "Python 3"
    },
    "language_info": {
      "name": "python"
    }
  },
  "cells": [
    {
      "cell_type": "markdown",
      "metadata": {
        "id": "view-in-github",
        "colab_type": "text"
      },
      "source": [
        "<a href=\"https://colab.research.google.com/github/cedamusk/final-year/blob/main/cookscript2.ipynb\" target=\"_parent\"><img src=\"https://colab.research.google.com/assets/colab-badge.svg\" alt=\"Open In Colab\"/></a>"
      ]
    },
    {
      "cell_type": "code",
      "execution_count": null,
      "metadata": {
        "id": "iGH_6YF9YYgJ"
      },
      "outputs": [],
      "source": [
        "!pip install obspy matplotlib tensorflow"
      ]
    },
    {
      "cell_type": "code",
      "source": [
        "import numpy as np\n",
        "import matplotlib.pyplot as plt\n",
        "from obspy import UTCDateTime, Stream, Trace\n",
        "from obspy.signal.trigger import classic_sta_lta\n",
        "from obspy.signal.filter import bandpass\n",
        "from sklearn.model_selection import train_test_split\n",
        "from tensorflow.keras.models import Sequential\n",
        "from tensorflow.keras.layers import LSTM, Dense, GRU, Bidirectional, SimpleRNN\n",
        "from tensorflow.keras.optimizers import Adam\n",
        "from sklearn.metrics import precision_score, recall_score, f1_score, roc_auc_score\n"
      ],
      "metadata": {
        "id": "l4pO5HmXYhIV"
      },
      "execution_count": null,
      "outputs": []
    },
    {
      "cell_type": "code",
      "source": [
        "def generate_synthetic_data(num_samples, sample_rate, event_duration, noise_level, num_events=1):\n",
        "  time=np.arange(num_samples)/sample_rate\n",
        "  background=np.random.normal(0, noise_level, num_samples)\n",
        "\n",
        "  events=np.zeros(num_samples)\n",
        "  event_starts=[]\n",
        "  event_ends=[]\n",
        "\n",
        "  for _ in range(num_events):\n",
        "    event_start=np.random.randint(0, num_samples-int(event_duration*sample_rate))\n",
        "    event_end=event_start+int(event_duration*sample_rate)\n",
        "    event=np.sin(2*np.pi*5*(time[event_start:event_end]-time[event_start]))*np.exp(-(time[event_start:event_end]-time[event_start])/0.2)\n",
        "    events[event_start:event_end]+=event\n",
        "    event_starts.append(event_start)\n",
        "    event_ends.append(event_end)\n",
        "\n",
        "  data=background+events\n",
        "  return data, events, event_starts, event_ends\n"
      ],
      "metadata": {
        "id": "uWv_TsomZCUz"
      },
      "execution_count": null,
      "outputs": []
    },
    {
      "cell_type": "code",
      "source": [
        "num_samples=50000\n",
        "sample_rate=100\n",
        "event_duration=2\n",
        "noise_level=0.1\n",
        "while True:\n",
        "  synthetic_data, true_event, event_starts, event_ends=generate_synthetic_data(num_samples, sample_rate, event_duration, noise_level, num_events=5)\n",
        "\n",
        "  true_events=np.zeros(len(synthetic_data))\n",
        "  for start, end in zip(event_starts, event_ends):\n",
        "    true_events[start:end]=1\n",
        "\n",
        "  if len(np.unique(true_events))==2:\n",
        "    break\n",
        "  else:\n",
        "    print(\"Generated data has only one class...Retrying...\")\n"
      ],
      "metadata": {
        "id": "-2M8NamfiGWI"
      },
      "execution_count": null,
      "outputs": []
    },
    {
      "cell_type": "code",
      "source": [
        "start_time=UTCDateTime(\"2021-01-01T00:00:00\")\n",
        "trace=Trace(data=synthetic_data)\n",
        "trace.stats.starttime=start_time\n",
        "trace.stats.delta=1.0/sample_rate\n",
        "trace.stats.channel='SHZ'\n",
        "stream=Stream([trace])"
      ],
      "metadata": {
        "id": "ekRxXy86ijmp"
      },
      "execution_count": null,
      "outputs": []
    },
    {
      "cell_type": "code",
      "source": [
        "filtered_stream=stream.copy()\n",
        "filtered_stream.filter('bandpass', freqmin=0.5, freqmax=20, corners=4, zerophase=True)"
      ],
      "metadata": {
        "id": "8fmTuHIFyP3B"
      },
      "execution_count": null,
      "outputs": []
    },
    {
      "cell_type": "code",
      "source": [
        "plt.figure(figsize=(12, 4))\n",
        "plt.plot(np.arange(num_samples)/sample_rate, synthetic_data)\n",
        "plt.title(\"Synthetic Seismic Data\")\n",
        "plt.xlabel(\"Time(s)\")\n",
        "plt.ylabel(\"Amplitude\")\n",
        "plt.show()\n"
      ],
      "metadata": {
        "id": "OpaNg4S8i_P_"
      },
      "execution_count": null,
      "outputs": []
    },
    {
      "cell_type": "code",
      "source": [
        "filtered_stream=stream.copy()\n",
        "filtered_stream.filter('bandpass', freqmin=0.5, freqmax=20, corners=4, zerophase=True)"
      ],
      "metadata": {
        "id": "2haQGyTRjbfA"
      },
      "execution_count": null,
      "outputs": []
    },
    {
      "cell_type": "code",
      "source": [
        "plt.figure(figsize=(12,4))\n",
        "plt.plot(np.arange(num_samples)/sample_rate, filtered_stream[0].data)\n",
        "plt.title(\"Filtered Synthetic Seismic Data\")\n",
        "plt.xlabel(\"Time(s)\")\n",
        "plt.ylabel(\"Amplitude\")\n",
        "plt.show()"
      ],
      "metadata": {
        "id": "Ih5hLG4djuE7"
      },
      "execution_count": null,
      "outputs": []
    },
    {
      "cell_type": "code",
      "source": [
        "def sta_lta_detection(stream, sta_length, lta_length, threshold):\n",
        "  data=stream[0].data\n",
        "  sta_lta=classic_sta_lta(data, sta_length, lta_length)\n",
        "  triggers=np.where(sta_lta>threshold)[0]\n",
        "  return triggers, sta_lta"
      ],
      "metadata": {
        "id": "S5vDjnEXkNRG"
      },
      "execution_count": null,
      "outputs": []
    },
    {
      "cell_type": "code",
      "source": [
        "sta_length=int(0.5*sample_rate)\n",
        "lta_length=int(5*sample_rate)\n",
        "threshold=3\n",
        "\n",
        "triggers, sta_lta=sta_lta_detection(filtered_stream, sta_length, lta_length, threshold)\n"
      ],
      "metadata": {
        "id": "scJHFs23k0Hm"
      },
      "execution_count": null,
      "outputs": []
    },
    {
      "cell_type": "code",
      "source": [
        "plt.figure(figsize=(12, 8))\n",
        "plt.subplot(2, 1, 1)\n",
        "plt.plot(np.arange(num_samples)/sample_rate, filtered_stream[0].data)\n",
        "plt.title(\"Filtered Seismic Data with Detected Events\")\n",
        "plt.xlabel(\"Time(s)\")\n",
        "plt.ylabel(\"Amplitude\")\n",
        "for trigger in triggers:\n",
        "  plt.axvline(x=trigger/sample_rate, color='r', linestyle='--')\n",
        "\n",
        "plt.subplot(2, 1, 2)\n",
        "plt.plot(np.arange(len(sta_lta))/sample_rate, sta_lta)\n",
        "plt.axhline(y=threshold, color='r', linestyle='--')\n",
        "plt.title(\"STA/LTA Ratio\")\n",
        "plt.tight_layout()\n",
        "plt.show()"
      ],
      "metadata": {
        "id": "h_m5j9VNlPQn"
      },
      "execution_count": null,
      "outputs": []
    },
    {
      "cell_type": "code",
      "source": [
        "window_size=100\n",
        "step=10"
      ],
      "metadata": {
        "id": "T0xTZVfSmSNC"
      },
      "execution_count": null,
      "outputs": []
    },
    {
      "cell_type": "code",
      "source": [
        "def create_windows(data, window_size, step):\n",
        "  return np.array([data[i:i+window_size]for i in range(0, len(data)-window_size+1, step)])\n",
        ""
      ],
      "metadata": {
        "id": "Wj2E58Bcmp6B"
      },
      "execution_count": null,
      "outputs": []
    },
    {
      "cell_type": "code",
      "source": [
        "X=create_windows(filtered_stream[0].data, window_size, step)\n",
        "y=np.zeros(len(X))"
      ],
      "metadata": {
        "id": "J4FonFtpnAMg"
      },
      "execution_count": null,
      "outputs": []
    },
    {
      "cell_type": "code",
      "source": [
        "for i, window_start in enumerate(range(0, len(filtered_stream[0].data)-window_size+1, step)):\n",
        "  window_end=window_start+window_size\n",
        "  if np.any(true_events[window_start:window_end]==1):\n",
        "    y[i]=1"
      ],
      "metadata": {
        "id": "oASWKMJuzFVC"
      },
      "execution_count": null,
      "outputs": []
    },
    {
      "cell_type": "code",
      "source": [
        "for trigger in triggers:\n",
        "  event_windows=np.where((np.arange(len(X))*step<=trigger)&(trigger<np.arange(len(X))*step+window_size))[0]\n",
        "  y[event_windows]=1"
      ],
      "metadata": {
        "id": "UMwkZFcrnNEJ"
      },
      "execution_count": null,
      "outputs": []
    },
    {
      "cell_type": "code",
      "source": [
        "X_train, X_test, y_train, y_test=train_test_split(X, y, test_size=0.2, random_state=42)"
      ],
      "metadata": {
        "id": "Nwxs2miRnr7b"
      },
      "execution_count": null,
      "outputs": []
    },
    {
      "cell_type": "code",
      "source": [
        "X_train_mean=X_train.mean()\n",
        "X_train_std=X_train.std()\n",
        "X_train=(X_train-X_train_mean)/X_train_std\n",
        "X_test=(X_test-X_train_mean)/X_train_std"
      ],
      "metadata": {
        "id": "pbaI6fnXn-eu"
      },
      "execution_count": null,
      "outputs": []
    },
    {
      "cell_type": "code",
      "source": [
        "X_train=X_train.reshape((X_train.shape[0], X_train.shape[1], 1))\n",
        "X_test=X_test.reshape((X_test.shape[0], X_test.shape[1], 1))"
      ],
      "metadata": {
        "id": "_nAIjZa-oZjt"
      },
      "execution_count": null,
      "outputs": []
    },
    {
      "cell_type": "code",
      "source": [
        "model=Sequential([\n",
        "    Bidirectional(LSTM(64, return_sequences=True, input_shape=(window_size, 1))),\n",
        "    Bidirectional(LSTM(32, return_sequences=True)),\n",
        "    GRU(16),\n",
        "    Dense(1, activation='sigmoid')\n",
        "])"
      ],
      "metadata": {
        "id": "Ehdoe8HJospb"
      },
      "execution_count": null,
      "outputs": []
    },
    {
      "cell_type": "code",
      "source": [
        "model.compile(optimizer=Adam(learning_rate=0.001), loss='binary_crossentropy', metrics=['accuracy'])"
      ],
      "metadata": {
        "id": "7upE0GNEpEWR"
      },
      "execution_count": null,
      "outputs": []
    },
    {
      "cell_type": "code",
      "source": [
        "history=model.fit(X_train, y_train, epochs=50, batch_size=32, validation_split=0.2, verbose=1)"
      ],
      "metadata": {
        "id": "JR_G3TF1pXtK"
      },
      "execution_count": null,
      "outputs": []
    },
    {
      "cell_type": "code",
      "source": [
        "loss, accuracy=model.evaluate(X_test, y_test)\n",
        "print(f\"Test accuracy:{accuracy:.4f}\")"
      ],
      "metadata": {
        "id": "0sNLFkbWpn5X"
      },
      "execution_count": null,
      "outputs": []
    },
    {
      "cell_type": "code",
      "source": [
        "plt.figure(figsize=(12,4))\n",
        "plt.plot(history.history['accuracy'], label='Training Accuracy')\n",
        "plt.plot(history.history['val_accuracy'], label='Validation Accuracy')\n",
        "plt.title('Model Accuracy')\n",
        "plt.xlabel('Epoch')\n",
        "plt.ylabel('Accuracy')\n",
        "plt.legend()\n",
        "plt.show()"
      ],
      "metadata": {
        "id": "3f2d_sM5p9dx"
      },
      "execution_count": null,
      "outputs": []
    },
    {
      "cell_type": "code",
      "source": [
        "def rnn_detection(data, model, window_size, step):\n",
        "  X=create_windows(data, window_size, step)\n",
        "  X=(X-X_train_mean)/X_train_std\n",
        "  X=X.reshape((X.shape[0], X.shape[1],1))\n",
        "  predictions=model.predict(X)\n",
        "  return predictions.flatten()"
      ],
      "metadata": {
        "id": "VA1F7lSEqkR5"
      },
      "execution_count": null,
      "outputs": []
    },
    {
      "cell_type": "code",
      "source": [
        "rnn_predictions=rnn_detection(filtered_stream[0].data, model, window_size, step)"
      ],
      "metadata": {
        "id": "GdVt3WnPrPbX"
      },
      "execution_count": null,
      "outputs": []
    },
    {
      "cell_type": "code",
      "source": [
        "plt.figure(figsize=(12, 8))\n",
        "plt.subplot(3,1,1)\n",
        "plt.plot(np.arange(num_samples)/sample_rate, filtered_stream[0].data)\n",
        "plt.title(\"Filtered Seismic Data\")\n",
        "plt.xlabel(\"Time(s)\")\n",
        "plt.ylabel(\"Amplitude\")\n",
        "\n",
        "plt.subplot(3,1,2)\n",
        "plt.plot(np.arange(len(sta_lta))/sample_rate, sta_lta)\n",
        "plt.axhline(y=threshold, color='r', linestyle='--')\n",
        "plt.title(\"STA/LTA Ratio\")\n",
        "plt.xlabel(\"Time(s)\")\n",
        "plt.ylabel(\"STA/LTA Ratio\")\n",
        "\n",
        "plt.subplot(3,1,3)\n",
        "plt.plot(np.arange(len(rnn_predictions))*step/sample_rate, rnn_predictions)\n",
        "plt.title(\"RNN Predictions\")\n",
        "plt.xlabel(\"Time(s)\")\n",
        "plt.ylabel(\"Probability\")\n",
        "\n",
        "plt.tight_layout()\n",
        "plt.show()"
      ],
      "metadata": {
        "id": "Y3BeqambrZj8"
      },
      "execution_count": null,
      "outputs": []
    },
    {
      "cell_type": "code",
      "source": [
        "num_rnn_predictions=len(rnn_predictions)\n",
        "sta_lta_trimmed=sta_lta[:num_rnn_predictions]\n",
        "combined_detections=(sta_lta_trimmed>threshold)&(rnn_predictions>0.5)\n",
        "combined_triggers=np.where(combined_detections)[0]"
      ],
      "metadata": {
        "id": "vnzv2ztBs0pT"
      },
      "execution_count": null,
      "outputs": []
    },
    {
      "cell_type": "code",
      "source": [
        "plt.figure(figsize=(12,4))\n",
        "plt.plot(np.arange(num_samples)/sample_rate, filtered_stream[0].data)\n",
        "plt.title(\"Filtered Seismic Data with Combined Detections\")\n",
        "plt.xlabel(\"Time(s)\")\n",
        "plt.ylabel(\"Amplitude\")\n",
        "for trgger in combined_triggers:\n",
        "  plt.axvline(x=trigger/sample_rate, color='g', linestyle='--')\n",
        "  plt.show()"
      ],
      "metadata": {
        "id": "asDOb1eytz15"
      },
      "execution_count": null,
      "outputs": []
    },
    {
      "cell_type": "code",
      "source": [
        "from sklearn.metrics import precision_score, recall_score, f1_score, roc_auc_score"
      ],
      "metadata": {
        "id": "k1OGOzfxvezb"
      },
      "execution_count": null,
      "outputs": []
    },
    {
      "cell_type": "code",
      "source": [
        "plt.figure(figsize=(12,4))\n",
        "plt.plot(np.arange(num_samples)/sample_rate, synthetic_data)\n",
        "plt.title(\"Synthetic Seismic Data\")\n",
        "plt.xlabel(\"Time(s)\")\n",
        "plt.ylabel(\"Amplitude\")\n",
        "for start, end in zip(event_starts, event_ends):\n",
        "  plt.axvspan(start/sample_rate, end/sample_rate, color='r', alpha=0.5)\n",
        "plt.show()"
      ],
      "metadata": {
        "id": "TmN8EfgnwtL2"
      },
      "execution_count": null,
      "outputs": []
    },
    {
      "cell_type": "code",
      "source": [
        "event_starts_idx=[int(start*sample_rate)for start in event_starts]\n",
        "event_ends_idx=[int(end*sample_rate)for end in event_ends]\n",
        "\n",
        "true_events=np.zeros(len(filtered_stream[0].data))\n",
        "for start, end in zip(event_starts_idx, event_ends_idx):\n",
        "  start=max(0, start)\n",
        "  end=min(len(true_events), end)\n",
        "  true_events[start:end]=1"
      ],
      "metadata": {
        "id": "r2chfXCywxfe"
      },
      "execution_count": null,
      "outputs": []
    },
    {
      "cell_type": "code",
      "source": [
        "if len(np.unique(true_events))!=2:\n",
        "  print(\"ROC AUC cannot be calculated because ture_events contains only one class\")\n",
        "else:\n",
        "  from sklearn.metrics import roc_auc_score\n",
        "  auc_score=roc_auc_score(true_events, predicted_probabilities)\n",
        "  print(f\"ROC AUC:{roc_auc_score(true_events, rnn_predictions):.4f}\")"
      ],
      "metadata": {
        "id": "Hv4eJE2S2Et0"
      },
      "execution_count": null,
      "outputs": []
    },
    {
      "cell_type": "code",
      "source": [
        "sta_lta_predictions=np.zeros(len(filtered_stream[0].data))\n",
        "sta_lta_predictions[triggers]=1"
      ],
      "metadata": {
        "id": "Og_Bb_MCw_2s"
      },
      "execution_count": null,
      "outputs": []
    },
    {
      "cell_type": "code",
      "source": [
        "rnn_predictions_full=np.zeros(len(filtered_stream[0].data))\n",
        "rnn_predictions_full[np.arange(len(rnn_predictions))*step]=(rnn_predictions>0.5).astype(int)"
      ],
      "metadata": {
        "id": "TGFciK0gzDWe"
      },
      "execution_count": null,
      "outputs": []
    },
    {
      "cell_type": "code",
      "source": [
        "combined_predictions=np.zeros(len(filtered_stream[0].data))\n",
        "combined_predictions[combined_triggers]=1"
      ],
      "metadata": {
        "id": "l_VyamMUzaCp"
      },
      "execution_count": null,
      "outputs": []
    },
    {
      "cell_type": "code",
      "source": [
        "def print_metrics(y_true, y_pred, y_pred_proba, method_name):\n",
        "  if len(np.unique(y_true))<2:\n",
        "    print(f\"{method_name}Metrics\")\n",
        "    print(\"Cannot calculate metrics. All true labels are the same\")\n",
        "    print()\n",
        "    return\n",
        "\n",
        "  with warnings.catch_warnings():\n",
        "    warnings.filterwarnings(\"ignore\", category=UndefinedMetricWarning)\n",
        "\n",
        "  precision=precision_score(y_true, y_pred)\n",
        "  recall=recall_score(y_true, y_pred)\n",
        "  f1=f1_score(y_true, y_pred)\n",
        "  auc=roc_auc_score(y_true, y_pred_proba)\n",
        "  print(f\"{method_name} Metrics:\")\n",
        "  print(f\"Precision:{precision:.4f}\")\n",
        "  print(f\"Recall:{recall:.4f}\")\n",
        "  print(f\"f1 Score:{f1:.4f}\")\n",
        "\n",
        "  try:\n",
        "    auc=roc_auc_score(y_true, y_pred_proba)\n",
        "    print(f\"AUC:{auc:.4f}\")\n",
        "  except ValueError:\n",
        "    print(\"AUC cannot be calculated(requires both classes)\")\n",
        "  print()"
      ],
      "metadata": {
        "id": "U8-YwWu7zmXC"
      },
      "execution_count": null,
      "outputs": []
    },
    {
      "cell_type": "code",
      "source": [],
      "metadata": {
        "id": "evSvaOTi4xPV"
      },
      "execution_count": null,
      "outputs": []
    },
    {
      "cell_type": "code",
      "source": [
        "sta_lta_binary=(sta_lta>threshold).astype(int)\n",
        "sta_lta_proba=sta_lta/np.max(sta_lta)"
      ],
      "metadata": {
        "id": "gi9fd5buyuMe"
      },
      "execution_count": null,
      "outputs": []
    },
    {
      "cell_type": "code",
      "source": [
        "combined_binary=np.logical_or(sta_lta_binary, rnn_predictions_full).astype(int)\n",
        "if len(sta_lta_proba)<len(rnn_predictions):\n",
        "  sta_lta_proba=np.pad(sta_lta_proba, (0, len(rnn_predictions)-len(sta_lta_proba)), 'constant')\n",
        "else:\n",
        "  rnn_predictions=np.pad(rnn_predictions, (0, len(sta_lta_proba)-len(rnn_predictions)), 'constant')\n",
        "combined_proba=np.maximum(sta_lta_proba, rnn_predictions)"
      ],
      "metadata": {
        "id": "t7JH2gQQzbrN"
      },
      "execution_count": null,
      "outputs": []
    },
    {
      "cell_type": "code",
      "source": [
        "print_metrics(true_events, sta_lta_binary, sta_lta_proba, \"STA/LTA\")\n",
        "print_metrics(true_events, rnn_predictions_full, rnn_predictions, \"RNN\")\n",
        "print_metrics(true_events, combined_predictions, combined_proba, \"Combined STA/LTA and RNN\")"
      ],
      "metadata": {
        "id": "TH929lug0YEh"
      },
      "execution_count": null,
      "outputs": []
    },
    {
      "cell_type": "code",
      "source": [
        "from sklearn.metrics import roc_curve\n",
        "plt.figure(figsize=(10,8))\n",
        "fpr,tpr,_=roc_curve(true_events, sta_lta/np.max(sta_lta))\n",
        "plt.plot(fpr, tpr, label=f'STA/LTA(AUC={roc_auc_score(true_events, sta_lta/np.max(sta_lta)):.2f})')\n",
        "\n",
        "fpr, tpr, _=roc_curve(true_events, rnn_predictions)\n",
        "plt.plot(fpr,tpr, label=f'RNN(AUC={roc_auc_score(true_events, rnn_predictions):.2f})')\n",
        "\n",
        "fpr, tpr, _=roc_curve(true_events, np.maximum(sta_lta/np.max(sta_lta), rnn_predictions))\n",
        "plt.plot(fpr, tpr, label=f'Combined (AUC={roc_auc_score(true_events, np.maximum(sta_lta/np.max(sta_lta), rnn_predictions)):.2f})')\n",
        "\n",
        "plt.plot([0,1], [0,1], linestyle='--', label='Random Classifier')\n",
        "plt.xlabel('False Positive Rate')\n",
        "plt.ylabel('True Positive Rate')\n",
        "plt.title('Receiver Operating Characteristic (ROC) Curve')\n",
        "plt.legend()\n",
        "plt.show()"
      ],
      "metadata": {
        "id": "6pIWOY5c9OUq"
      },
      "execution_count": null,
      "outputs": []
    },
    {
      "cell_type": "code",
      "source": [
        "plt.figure(figsize=(12,6))\n",
        "plt.plot(np.arange(num_samples)/sample_rate, filtered_stream[0].data, label='Filtered Data' )\n",
        "plt.plot(np.arange(num_samples)/sample_rate, true_events*np.max(filtered_stream[0].data), 'g', label='True Event')\n",
        "plt.plot(np.arange(num_samples)/sample_rate, combined_predictions*np.max(filtered_stream[0].data),'r--', label='Combined Detection')\n",
        "plt.title('True Event vs Combined Detection')\n",
        "plt.xlabel(\"Time(s)\")\n",
        "plt.ylabel(\"Amplitude\")\n",
        "plt.legend()\n",
        "plt.show()"
      ],
      "metadata": {
        "id": "TbVaOtjW0y7R"
      },
      "execution_count": null,
      "outputs": []
    },
    {
      "cell_type": "code",
      "source": [],
      "metadata": {
        "id": "UC7bwZFJ2gVe"
      },
      "execution_count": null,
      "outputs": []
    }
  ]
}