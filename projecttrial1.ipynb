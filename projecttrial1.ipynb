{
  "nbformat": 4,
  "nbformat_minor": 0,
  "metadata": {
    "colab": {
      "private_outputs": true,
      "provenance": []
    },
    "kernelspec": {
      "name": "python3",
      "display_name": "Python 3"
    },
    "language_info": {
      "name": "python"
    }
  },
  "cells": [
    {
      "cell_type": "code",
      "execution_count": null,
      "metadata": {
        "id": "iGH_6YF9YYgJ"
      },
      "outputs": [],
      "source": [
        "!pip install obspy matplotlib tensorflow"
      ]
    },
    {
      "cell_type": "code",
      "source": [
        "import numpy as np\n",
        "import matplotlib.pyplot as plt\n",
        "from obspy import UTCDateTime, Stream, Trace\n",
        "from obspy.signal.trigger import classic_sta_lta\n",
        "from obspy.signal.filter import bandpass\n",
        "from sklearn.model_selection import train_test_split\n",
        "from tensorflow.keras.models import Sequential\n",
        "from tensorflow.keras.layers import SimpleRNN, Dense\n",
        "from tensorflow.keras.optimizers import Adam\n"
      ],
      "metadata": {
        "id": "l4pO5HmXYhIV"
      },
      "execution_count": null,
      "outputs": []
    },
    {
      "cell_type": "code",
      "source": [
        "def generate_synthetic_data(num_samples, sample_rate, event_duration, noise_level):\n",
        "  time=np.arange(num_samples)/sample_rate\n",
        "  background=np.random.normal(0, noise_level, num_samples)\n",
        "\n",
        "  event_start=num_samples//4\n",
        "  event_end=event_start+int(event_duration*sample_rate)\n",
        "  event=np.zeros(num_samples)\n",
        "  event[event_start:event_end]=np.sin(2*np.pi*5*(time[event_start:event_end]-time[event_start]))*np.exp(-(time[event_start:event_end]-time[event_start])/0.2)\n",
        "\n",
        "  data=background+event\n",
        "  return data, event, event_start, event_end\n"
      ],
      "metadata": {
        "id": "uWv_TsomZCUz"
      },
      "execution_count": null,
      "outputs": []
    },
    {
      "cell_type": "code",
      "source": [
        "num_samples=10000\n",
        "sample_rate=100\n",
        "event_duration=2\n",
        "noise_level=0.1\n",
        "\n",
        "synthetic_data, true_event, event_start, event_end=generate_synthetic_data(num_samples, sample_rate, event_duration, noise_level)\n"
      ],
      "metadata": {
        "id": "-2M8NamfiGWI"
      },
      "execution_count": null,
      "outputs": []
    },
    {
      "cell_type": "code",
      "source": [
        "start_time=UTCDateTime(\"2021-01-01T00:00:00\")\n",
        "trace=Trace(data=synthetic_data)\n",
        "trace.stats.starttime=start_time\n",
        "trace.stats.delta=1.0/sample_rate\n",
        "trace.stats.channel='SHZ'\n",
        "stream=Stream([trace])"
      ],
      "metadata": {
        "id": "ekRxXy86ijmp"
      },
      "execution_count": null,
      "outputs": []
    },
    {
      "cell_type": "code",
      "source": [
        "filtered_stream=stream.copy()\n",
        "filtered_stream.filter('bandpass', freqmin=0.5, freqmax=20, corners=4, zerophase=True)"
      ],
      "metadata": {
        "id": "8fmTuHIFyP3B"
      },
      "execution_count": null,
      "outputs": []
    },
    {
      "cell_type": "code",
      "source": [
        "plt.figure(figsize=(12, 4))\n",
        "plt.plot(np.arange(num_samples)/sample_rate, synthetic_data)\n",
        "plt.title(\"Synthetic Seismic Data\")\n",
        "plt.xlabel(\"Time(s)\")\n",
        "plt.ylabel(\"Amplitude\")\n",
        "plt.show()\n"
      ],
      "metadata": {
        "id": "OpaNg4S8i_P_"
      },
      "execution_count": null,
      "outputs": []
    },
    {
      "cell_type": "code",
      "source": [
        "filtered_stream=stream.copy()\n",
        "filtered_stream.filter('bandpass', freqmin=0.5, freqmax=20, corners=4, zerophase=True)"
      ],
      "metadata": {
        "id": "2haQGyTRjbfA"
      },
      "execution_count": null,
      "outputs": []
    },
    {
      "cell_type": "code",
      "source": [
        "plt.figure(figsize=(12,4))\n",
        "plt.plot(np.arange(num_samples)/sample_rate, filtered_stream[0].data)\n",
        "plt.title(\"Filtered Synthetic Seismic Data\")\n",
        "plt.xlabel(\"Time(s)\")\n",
        "plt.ylabel(\"Amplitude\")\n",
        "plt.show()"
      ],
      "metadata": {
        "id": "Ih5hLG4djuE7"
      },
      "execution_count": null,
      "outputs": []
    },
    {
      "cell_type": "code",
      "source": [
        "def sta_lta_detection(stream, sta_length, lta_length, threshold):\n",
        "  data=stream[0].data\n",
        "  sta_lta=classic_sta_lta(data, sta_length, lta_length)\n",
        "  triggers=np.where(sta_lta>threshold)[0]\n",
        "  return triggers, sta_lta"
      ],
      "metadata": {
        "id": "S5vDjnEXkNRG"
      },
      "execution_count": null,
      "outputs": []
    },
    {
      "cell_type": "code",
      "source": [
        "sta_length=int(0.5*sample_rate)\n",
        "lta_length=int(5*sample_rate)\n",
        "threshold=3\n",
        "\n",
        "triggers, sta_lta=sta_lta_detection(filtered_stream, sta_length, lta_length, threshold)\n"
      ],
      "metadata": {
        "id": "scJHFs23k0Hm"
      },
      "execution_count": null,
      "outputs": []
    },
    {
      "cell_type": "code",
      "source": [
        "plt.figure(figsize=(12, 8))\n",
        "plt.subplot(2, 1, 1)\n",
        "plt.plot(np.arange(num_samples)/sample_rate, filtered_stream[0].data)\n",
        "plt.title(\"Filtered Seismic Data with Detected Events\")\n",
        "plt.xlabel(\"Time(s)\")\n",
        "plt.ylabel(\"Amplitude\")\n",
        "for trigger in triggers:\n",
        "  plt.axvline(x=trigger/sample_rate, color='r', linestyle='--')\n",
        "\n",
        "plt.subplot(2, 1, 2)\n",
        "plt.plot(np.arange(len(sta_lta))/sample_rate, sta_lta)\n",
        "plt.axhline(y=threshold, color='r', linestyle='--')\n",
        "plt.title(\"STA/LTA Ratio\")\n",
        "plt.tight_layout()\n",
        "plt.show()"
      ],
      "metadata": {
        "id": "h_m5j9VNlPQn"
      },
      "execution_count": null,
      "outputs": []
    },
    {
      "cell_type": "code",
      "source": [
        "window_size=100\n",
        "step=10"
      ],
      "metadata": {
        "id": "T0xTZVfSmSNC"
      },
      "execution_count": null,
      "outputs": []
    },
    {
      "cell_type": "code",
      "source": [
        "def create_windows(data, window_size, step):\n",
        "  return np.array([data[i:i+window_size]for i in range(0, len(data)-window_size+1, step)])\n",
        ""
      ],
      "metadata": {
        "id": "Wj2E58Bcmp6B"
      },
      "execution_count": null,
      "outputs": []
    },
    {
      "cell_type": "code",
      "source": [
        "X=create_windows(filtered_stream[0].data, window_size, step)\n",
        "y=np.zeros(len(X))"
      ],
      "metadata": {
        "id": "J4FonFtpnAMg"
      },
      "execution_count": null,
      "outputs": []
    },
    {
      "cell_type": "code",
      "source": [
        "for trigger in triggers:\n",
        "  event_windows=np.where((np.arange(len(X))*step<=trigger)&(trigger<np.arange(len(X))*step+window_size))[0]\n",
        "  y[event_windows]=1"
      ],
      "metadata": {
        "id": "UMwkZFcrnNEJ"
      },
      "execution_count": null,
      "outputs": []
    },
    {
      "cell_type": "code",
      "source": [
        "X_train, X_test, y_train, y_test=train_test_split(X, y, test_size=0.2, random_state=42)"
      ],
      "metadata": {
        "id": "Nwxs2miRnr7b"
      },
      "execution_count": null,
      "outputs": []
    },
    {
      "cell_type": "code",
      "source": [
        "X_train_mean=X_train.mean()\n",
        "X_train_std=X_train.std()\n",
        "X_train=(X_train-X_train_mean)/X_train_std\n",
        "X_test=(X_test-X_train_mean)/X_train_std"
      ],
      "metadata": {
        "id": "pbaI6fnXn-eu"
      },
      "execution_count": null,
      "outputs": []
    },
    {
      "cell_type": "code",
      "source": [
        "X_train=X_train.reshape((X_train.shape[0], X_train.shape[1], 1))\n",
        "X_test=X_test.reshape((X_test.shape[0], X_test.shape[1], 1))"
      ],
      "metadata": {
        "id": "_nAIjZa-oZjt"
      },
      "execution_count": null,
      "outputs": []
    },
    {
      "cell_type": "code",
      "source": [
        "model=Sequential([\n",
        "    SimpleRNN(64, input_shape=(window_size, 1), activation='relu', return_sequences=True),\n",
        "    SimpleRNN(32, activation='relu'),\n",
        "    Dense(1, activation='sigmoid')\n",
        "])"
      ],
      "metadata": {
        "id": "Ehdoe8HJospb"
      },
      "execution_count": null,
      "outputs": []
    },
    {
      "cell_type": "code",
      "source": [
        "model.compile(optimizer=Adam(learning_rate=0.001), loss='binary_crossentropy', metrics=['accuracy'])"
      ],
      "metadata": {
        "id": "7upE0GNEpEWR"
      },
      "execution_count": null,
      "outputs": []
    },
    {
      "cell_type": "code",
      "source": [
        "history=model.fit(X_train, y_train, epochs=10, batch_size=32, validation_split=0.2, verbose=1)"
      ],
      "metadata": {
        "id": "JR_G3TF1pXtK"
      },
      "execution_count": null,
      "outputs": []
    },
    {
      "cell_type": "code",
      "source": [
        "loss, accuracy=model.evaluate(X_test, y_test)\n",
        "print(f\"Test accuracy:{accuracy:.4f}\")"
      ],
      "metadata": {
        "id": "0sNLFkbWpn5X"
      },
      "execution_count": null,
      "outputs": []
    },
    {
      "cell_type": "code",
      "source": [
        "plt.figure(figsize=(12,4))\n",
        "plt.plot(history.history['accuracy'], label='Training Accuracy')\n",
        "plt.plot(history.history['val_accuracy'], label='Validation Accuracy')\n",
        "plt.title('Model Accuracy')\n",
        "plt.xlabel('Epoch')\n",
        "plt.ylabel('Accuracy')\n",
        "plt.legend()\n",
        "plt.show()"
      ],
      "metadata": {
        "id": "3f2d_sM5p9dx"
      },
      "execution_count": null,
      "outputs": []
    },
    {
      "cell_type": "code",
      "source": [
        "def rnn_detection(data, model, window_size, step):\n",
        "  X=create_windows(data, window_size, step)\n",
        "  X=(X-X_train_mean)/X_train_std\n",
        "  X=X.reshape((X.shape[0], X.shape[1],1))\n",
        "  predictions=model.predict(X)\n",
        "  return predictions.flatten()"
      ],
      "metadata": {
        "id": "VA1F7lSEqkR5"
      },
      "execution_count": null,
      "outputs": []
    },
    {
      "cell_type": "code",
      "source": [
        "rnn_predictions=rnn_detection(filtered_stream[0].data, model, window_size, step)"
      ],
      "metadata": {
        "id": "GdVt3WnPrPbX"
      },
      "execution_count": null,
      "outputs": []
    },
    {
      "cell_type": "code",
      "source": [
        "plt.figure(figsize=(12, 8))\n",
        "plt.subplot(3,1,1)\n",
        "plt.plot(np.arange(num_samples)/sample_rate, filtered_stream[0].data)\n",
        "plt.title(\"Filtered Seismic Data\")\n",
        "plt.xlabel(\"Time(s)\")\n",
        "plt.ylabel(\"Amplitude\")\n",
        "\n",
        "plt.subplot(3,1,2)\n",
        "plt.plot(np.arange(len(sta_lta))/sample_rate, sta_lta)\n",
        "plt.axhline(y=threshold, color='r', linestyle='--')\n",
        "plt.title(\"STA/LTA Ratio\")\n",
        "plt.xlabel(\"Time(s)\")\n",
        "plt.ylabel(\"STA/LTA Ratio\")\n",
        "\n",
        "plt.subplot(3,1,3)\n",
        "plt.plot(np.arange(len(rnn_predictions))*step/sample_rate, rnn_predictions)\n",
        "plt.title(\"RNN Predictions\")\n",
        "plt.xlabel(\"Time(s)\")\n",
        "plt.ylabel(\"Probability\")\n",
        "\n",
        "plt.tight_layout()\n",
        "plt.show()"
      ],
      "metadata": {
        "id": "Y3BeqambrZj8"
      },
      "execution_count": null,
      "outputs": []
    },
    {
      "cell_type": "code",
      "source": [
        "num_rnn_predictions=len(rnn_predictions)\n",
        "sta_lta_trimmed=sta_lta[:num_rnn_predictions]\n",
        "combined_detections=(sta_lta_trimmed>threshold)&(rnn_predictions>0.5)\n",
        "combined_triggers=np.where(combined_detections)[0]"
      ],
      "metadata": {
        "id": "vnzv2ztBs0pT"
      },
      "execution_count": null,
      "outputs": []
    },
    {
      "cell_type": "code",
      "source": [
        "plt.figure(figsize=(12,4))\n",
        "plt.plot(np.arange(num_samples)/sample_rate, filtered_stream[0].data)\n",
        "plt.title(\"Filtered Seismic Data with Combined Detections\")\n",
        "plt.xlabel(\"Time(s)\")\n",
        "plt.ylabel(\"Amplitude\")\n",
        "for trgger in combined_triggers:\n",
        "  plt.axvline(x=trigger/sample_rate, color='g', linestyle='--')\n",
        "  plt.show()"
      ],
      "metadata": {
        "id": "asDOb1eytz15"
      },
      "execution_count": null,
      "outputs": []
    },
    {
      "cell_type": "code",
      "source": [
        "from sklearn.metrics import precision_score, recall_score, f1_score"
      ],
      "metadata": {
        "id": "k1OGOzfxvezb"
      },
      "execution_count": null,
      "outputs": []
    },
    {
      "cell_type": "code",
      "source": [
        "true_events=np.zeros(len(filtered_stream[0].data))\n",
        "true_events[event_start:event_end]=1"
      ],
      "metadata": {
        "id": "r2chfXCywxfe"
      },
      "execution_count": null,
      "outputs": []
    },
    {
      "cell_type": "code",
      "source": [
        "sta_lta_predictions=np.zeros(len(filtered_stream[0].data))\n",
        "sta_lta_predictions[triggers]=1"
      ],
      "metadata": {
        "id": "Og_Bb_MCw_2s"
      },
      "execution_count": null,
      "outputs": []
    },
    {
      "cell_type": "code",
      "source": [
        "rnn_predictions_full=np.zeros(len(filtered_stream[0].data))\n",
        "rnn_predictions_full[np.arange(len(rnn_predictions))*step]=(rnn_predictions>0.5).astype(int)"
      ],
      "metadata": {
        "id": "TGFciK0gzDWe"
      },
      "execution_count": null,
      "outputs": []
    },
    {
      "cell_type": "code",
      "source": [
        "combined_predictions=np.zeros(len(filtered_stream[0].data))\n",
        "combined_predictions[combined_triggers]=1"
      ],
      "metadata": {
        "id": "l_VyamMUzaCp"
      },
      "execution_count": null,
      "outputs": []
    },
    {
      "cell_type": "code",
      "source": [
        "def print_metrics(y_true, y_pred, method_name):\n",
        "  precision=precision_score(y_true, y_pred)\n",
        "  recall=recall_score(y_true, y_pred)\n",
        "  f1=f1_score(y_true, y_pred)\n",
        "  print(f\"{method_name} Metrics:\")\n",
        "  print(f\"Precision:{precision:.4f}\")\n",
        "  print(f\"Recall:{recall:.4f}\")\n",
        "  print(f\"f1 Score:{f1:.4f}\")\n",
        "  print()"
      ],
      "metadata": {
        "id": "U8-YwWu7zmXC"
      },
      "execution_count": null,
      "outputs": []
    },
    {
      "cell_type": "code",
      "source": [
        "print_metrics(true_events, sta_lta_predictions, \"STA/LTA\")\n",
        "print_metrics(true_events, rnn_predictions_full, \"RNN\")\n",
        "print_metrics(true_events, combined_predictions, \"Combined STA/LTA and RNN\")"
      ],
      "metadata": {
        "id": "TH929lug0YEh"
      },
      "execution_count": null,
      "outputs": []
    },
    {
      "cell_type": "code",
      "source": [
        "plt.figure(figsize=(12,6))\n",
        "plt.plot(np.arange(num_samples)/sample_rate, filtered_stream[0].data, label='Filtered Data' )\n",
        "plt.plot(np.arange(num_samples)/sample_rate, true_events*np.max(filtered_stream[0].data), 'g', label='True Event')\n",
        "plt.plot(np.arange(num_samples)/sample_rate, combined_predictions*np.max(filtered_stream[0].data),'r--', label='Combined Detection')\n",
        "plt.title('True Event vs Combined Detection')\n",
        "plt.xlabel(\"Time(s)\")\n",
        "plt.ylabel(\"Amplitude\")\n",
        "plt.legend()\n",
        "plt.show()"
      ],
      "metadata": {
        "id": "TbVaOtjW0y7R"
      },
      "execution_count": null,
      "outputs": []
    },
    {
      "cell_type": "code",
      "source": [],
      "metadata": {
        "id": "UC7bwZFJ2gVe"
      },
      "execution_count": null,
      "outputs": []
    }
  ]
}